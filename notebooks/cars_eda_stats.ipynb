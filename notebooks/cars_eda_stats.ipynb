{
 "cells": [
  {
   "cell_type": "code",
   "execution_count": 22,
   "metadata": {},
   "outputs": [],
   "source": [
    "import numpy as np\n",
    "import scipy.stats as st\n",
    "import pandas as pd\n",
    "import matplotlib.pyplot as plt\n",
    "from itertools import combinations"
   ]
  },
  {
   "cell_type": "code",
   "execution_count": 23,
   "metadata": {},
   "outputs": [
    {
     "data": {
      "text/html": [
       "<div>\n",
       "<style scoped>\n",
       "    .dataframe tbody tr th:only-of-type {\n",
       "        vertical-align: middle;\n",
       "    }\n",
       "\n",
       "    .dataframe tbody tr th {\n",
       "        vertical-align: top;\n",
       "    }\n",
       "\n",
       "    .dataframe thead th {\n",
       "        text-align: right;\n",
       "    }\n",
       "</style>\n",
       "<table border=\"1\" class=\"dataframe\">\n",
       "  <thead>\n",
       "    <tr style=\"text-align: right;\">\n",
       "      <th></th>\n",
       "      <th>mpg</th>\n",
       "      <th>cylinders</th>\n",
       "      <th>displacement</th>\n",
       "      <th>horsepower</th>\n",
       "      <th>weight</th>\n",
       "      <th>acceleration</th>\n",
       "      <th>model</th>\n",
       "      <th>origin</th>\n",
       "      <th>car_name</th>\n",
       "    </tr>\n",
       "  </thead>\n",
       "  <tbody>\n",
       "    <tr>\n",
       "      <th>71</th>\n",
       "      <td>19.0</td>\n",
       "      <td>3</td>\n",
       "      <td>70.0</td>\n",
       "      <td>97.00</td>\n",
       "      <td>2330.0</td>\n",
       "      <td>13.5</td>\n",
       "      <td>72</td>\n",
       "      <td>3</td>\n",
       "      <td>mazda rx2 coupe</td>\n",
       "    </tr>\n",
       "    <tr>\n",
       "      <th>111</th>\n",
       "      <td>18.0</td>\n",
       "      <td>3</td>\n",
       "      <td>70.0</td>\n",
       "      <td>90.00</td>\n",
       "      <td>2124.0</td>\n",
       "      <td>13.5</td>\n",
       "      <td>73</td>\n",
       "      <td>3</td>\n",
       "      <td>maxda rx3</td>\n",
       "    </tr>\n",
       "    <tr>\n",
       "      <th>243</th>\n",
       "      <td>21.5</td>\n",
       "      <td>3</td>\n",
       "      <td>80.0</td>\n",
       "      <td>110.0</td>\n",
       "      <td>2720.0</td>\n",
       "      <td>13.5</td>\n",
       "      <td>77</td>\n",
       "      <td>3</td>\n",
       "      <td>mazda rx-4</td>\n",
       "    </tr>\n",
       "    <tr>\n",
       "      <th>334</th>\n",
       "      <td>23.7</td>\n",
       "      <td>3</td>\n",
       "      <td>70.0</td>\n",
       "      <td>100.0</td>\n",
       "      <td>2420.0</td>\n",
       "      <td>12.5</td>\n",
       "      <td>80</td>\n",
       "      <td>3</td>\n",
       "      <td>mazda rx-7 gs</td>\n",
       "    </tr>\n",
       "  </tbody>\n",
       "</table>\n",
       "</div>"
      ],
      "text/plain": [
       "      mpg  cylinders  displacement horsepower  weight  acceleration  model  \\\n",
       "71   19.0          3          70.0      97.00  2330.0          13.5     72   \n",
       "111  18.0          3          70.0      90.00  2124.0          13.5     73   \n",
       "243  21.5          3          80.0      110.0  2720.0          13.5     77   \n",
       "334  23.7          3          70.0      100.0  2420.0          12.5     80   \n",
       "\n",
       "     origin         car_name  \n",
       "71        3  mazda rx2 coupe  \n",
       "111       3        maxda rx3  \n",
       "243       3       mazda rx-4  \n",
       "334       3    mazda rx-7 gs  "
      ]
     },
     "execution_count": 23,
     "metadata": {},
     "output_type": "execute_result"
    }
   ],
   "source": [
    "car_stats_df = pd.read_csv('../data/car_data.csv')\n",
    "car_stats_df[car_stats_df['cylinders'] == 3]"
   ]
  },
  {
   "cell_type": "markdown",
   "metadata": {},
   "source": [
    "Hypothesis Test for Cylinders vs. MPG:  \n",
    "Null Hypothesis (H0): There is no correlation between a car's numbers of cylinders and its MPG.  \n",
    "Alternate Hypothesis (H1): There is a significant correlation between a car's number of cylinders and its MPG."
   ]
  },
  {
   "cell_type": "code",
   "execution_count": 24,
   "metadata": {},
   "outputs": [
    {
     "name": "stdout",
     "output_type": "stream",
     "text": [
      "<class 'pandas.core.frame.DataFrame'>\n",
      "RangeIndex: 398 entries, 0 to 397\n",
      "Data columns (total 2 columns):\n",
      " #   Column     Non-Null Count  Dtype  \n",
      "---  ------     --------------  -----  \n",
      " 0   cylinders  398 non-null    int64  \n",
      " 1   mpg        398 non-null    float64\n",
      "dtypes: float64(1), int64(1)\n",
      "memory usage: 6.3 KB\n"
     ]
    }
   ],
   "source": [
    "cylinders_mpg = car_stats_df.loc[:, ['cylinders', 'mpg']]\n",
    "\n",
    "cylinders_mpg.info()"
   ]
  },
  {
   "cell_type": "code",
   "execution_count": 25,
   "metadata": {},
   "outputs": [
    {
     "data": {
      "text/html": [
       "<div>\n",
       "<style scoped>\n",
       "    .dataframe tbody tr th:only-of-type {\n",
       "        vertical-align: middle;\n",
       "    }\n",
       "\n",
       "    .dataframe tbody tr th {\n",
       "        vertical-align: top;\n",
       "    }\n",
       "\n",
       "    .dataframe thead th {\n",
       "        text-align: right;\n",
       "    }\n",
       "</style>\n",
       "<table border=\"1\" class=\"dataframe\">\n",
       "  <thead>\n",
       "    <tr style=\"text-align: right;\">\n",
       "      <th></th>\n",
       "      <th>cylinders</th>\n",
       "      <th>mpg</th>\n",
       "    </tr>\n",
       "  </thead>\n",
       "  <tbody>\n",
       "    <tr>\n",
       "      <th>0</th>\n",
       "      <td>8</td>\n",
       "      <td>18.0</td>\n",
       "    </tr>\n",
       "    <tr>\n",
       "      <th>1</th>\n",
       "      <td>8</td>\n",
       "      <td>15.0</td>\n",
       "    </tr>\n",
       "    <tr>\n",
       "      <th>2</th>\n",
       "      <td>8</td>\n",
       "      <td>18.0</td>\n",
       "    </tr>\n",
       "    <tr>\n",
       "      <th>3</th>\n",
       "      <td>8</td>\n",
       "      <td>16.0</td>\n",
       "    </tr>\n",
       "    <tr>\n",
       "      <th>4</th>\n",
       "      <td>8</td>\n",
       "      <td>17.0</td>\n",
       "    </tr>\n",
       "    <tr>\n",
       "      <th>14</th>\n",
       "      <td>4</td>\n",
       "      <td>24.0</td>\n",
       "    </tr>\n",
       "    <tr>\n",
       "      <th>15</th>\n",
       "      <td>6</td>\n",
       "      <td>22.0</td>\n",
       "    </tr>\n",
       "    <tr>\n",
       "      <th>16</th>\n",
       "      <td>6</td>\n",
       "      <td>18.0</td>\n",
       "    </tr>\n",
       "    <tr>\n",
       "      <th>17</th>\n",
       "      <td>6</td>\n",
       "      <td>21.0</td>\n",
       "    </tr>\n",
       "    <tr>\n",
       "      <th>18</th>\n",
       "      <td>4</td>\n",
       "      <td>27.0</td>\n",
       "    </tr>\n",
       "    <tr>\n",
       "      <th>19</th>\n",
       "      <td>4</td>\n",
       "      <td>26.0</td>\n",
       "    </tr>\n",
       "    <tr>\n",
       "      <th>20</th>\n",
       "      <td>4</td>\n",
       "      <td>25.0</td>\n",
       "    </tr>\n",
       "    <tr>\n",
       "      <th>21</th>\n",
       "      <td>4</td>\n",
       "      <td>24.0</td>\n",
       "    </tr>\n",
       "    <tr>\n",
       "      <th>24</th>\n",
       "      <td>6</td>\n",
       "      <td>21.0</td>\n",
       "    </tr>\n",
       "    <tr>\n",
       "      <th>33</th>\n",
       "      <td>6</td>\n",
       "      <td>19.0</td>\n",
       "    </tr>\n",
       "    <tr>\n",
       "      <th>71</th>\n",
       "      <td>3</td>\n",
       "      <td>19.0</td>\n",
       "    </tr>\n",
       "    <tr>\n",
       "      <th>111</th>\n",
       "      <td>3</td>\n",
       "      <td>18.0</td>\n",
       "    </tr>\n",
       "    <tr>\n",
       "      <th>243</th>\n",
       "      <td>3</td>\n",
       "      <td>21.5</td>\n",
       "    </tr>\n",
       "    <tr>\n",
       "      <th>274</th>\n",
       "      <td>5</td>\n",
       "      <td>20.3</td>\n",
       "    </tr>\n",
       "    <tr>\n",
       "      <th>297</th>\n",
       "      <td>5</td>\n",
       "      <td>25.4</td>\n",
       "    </tr>\n",
       "    <tr>\n",
       "      <th>327</th>\n",
       "      <td>5</td>\n",
       "      <td>36.4</td>\n",
       "    </tr>\n",
       "    <tr>\n",
       "      <th>334</th>\n",
       "      <td>3</td>\n",
       "      <td>23.7</td>\n",
       "    </tr>\n",
       "  </tbody>\n",
       "</table>\n",
       "</div>"
      ],
      "text/plain": [
       "     cylinders   mpg\n",
       "0            8  18.0\n",
       "1            8  15.0\n",
       "2            8  18.0\n",
       "3            8  16.0\n",
       "4            8  17.0\n",
       "14           4  24.0\n",
       "15           6  22.0\n",
       "16           6  18.0\n",
       "17           6  21.0\n",
       "18           4  27.0\n",
       "19           4  26.0\n",
       "20           4  25.0\n",
       "21           4  24.0\n",
       "24           6  21.0\n",
       "33           6  19.0\n",
       "71           3  19.0\n",
       "111          3  18.0\n",
       "243          3  21.5\n",
       "274          5  20.3\n",
       "297          5  25.4\n",
       "327          5  36.4\n",
       "334          3  23.7"
      ]
     },
     "execution_count": 25,
     "metadata": {},
     "output_type": "execute_result"
    }
   ],
   "source": [
    "cylinder_groups = cylinders_mpg.groupby('cylinders')\n",
    "cylinder_groups.head()"
   ]
  },
  {
   "cell_type": "code",
   "execution_count": 26,
   "metadata": {},
   "outputs": [
    {
     "data": {
      "text/html": [
       "<div>\n",
       "<style scoped>\n",
       "    .dataframe tbody tr th:only-of-type {\n",
       "        vertical-align: middle;\n",
       "    }\n",
       "\n",
       "    .dataframe tbody tr th {\n",
       "        vertical-align: top;\n",
       "    }\n",
       "\n",
       "    .dataframe thead th {\n",
       "        text-align: right;\n",
       "    }\n",
       "</style>\n",
       "<table border=\"1\" class=\"dataframe\">\n",
       "  <thead>\n",
       "    <tr style=\"text-align: right;\">\n",
       "      <th></th>\n",
       "      <th>mpg</th>\n",
       "    </tr>\n",
       "    <tr>\n",
       "      <th>cylinders</th>\n",
       "      <th></th>\n",
       "    </tr>\n",
       "  </thead>\n",
       "  <tbody>\n",
       "    <tr>\n",
       "      <th>3</th>\n",
       "      <td>20.550000</td>\n",
       "    </tr>\n",
       "    <tr>\n",
       "      <th>4</th>\n",
       "      <td>29.286765</td>\n",
       "    </tr>\n",
       "    <tr>\n",
       "      <th>5</th>\n",
       "      <td>27.366667</td>\n",
       "    </tr>\n",
       "    <tr>\n",
       "      <th>6</th>\n",
       "      <td>19.985714</td>\n",
       "    </tr>\n",
       "    <tr>\n",
       "      <th>8</th>\n",
       "      <td>14.963107</td>\n",
       "    </tr>\n",
       "  </tbody>\n",
       "</table>\n",
       "</div>"
      ],
      "text/plain": [
       "                 mpg\n",
       "cylinders           \n",
       "3          20.550000\n",
       "4          29.286765\n",
       "5          27.366667\n",
       "6          19.985714\n",
       "8          14.963107"
      ]
     },
     "execution_count": 26,
     "metadata": {},
     "output_type": "execute_result"
    }
   ],
   "source": [
    "cylinder_groups.mean()"
   ]
  },
  {
   "cell_type": "code",
   "execution_count": 27,
   "metadata": {},
   "outputs": [
    {
     "data": {
      "text/html": [
       "<div>\n",
       "<style scoped>\n",
       "    .dataframe tbody tr th:only-of-type {\n",
       "        vertical-align: middle;\n",
       "    }\n",
       "\n",
       "    .dataframe tbody tr th {\n",
       "        vertical-align: top;\n",
       "    }\n",
       "\n",
       "    .dataframe thead th {\n",
       "        text-align: right;\n",
       "    }\n",
       "</style>\n",
       "<table border=\"1\" class=\"dataframe\">\n",
       "  <thead>\n",
       "    <tr style=\"text-align: right;\">\n",
       "      <th></th>\n",
       "      <th>mpg</th>\n",
       "    </tr>\n",
       "    <tr>\n",
       "      <th>cylinders</th>\n",
       "      <th></th>\n",
       "    </tr>\n",
       "  </thead>\n",
       "  <tbody>\n",
       "    <tr>\n",
       "      <th>3</th>\n",
       "      <td>2.564501</td>\n",
       "    </tr>\n",
       "    <tr>\n",
       "      <th>4</th>\n",
       "      <td>5.710156</td>\n",
       "    </tr>\n",
       "    <tr>\n",
       "      <th>5</th>\n",
       "      <td>8.228204</td>\n",
       "    </tr>\n",
       "    <tr>\n",
       "      <th>6</th>\n",
       "      <td>3.807322</td>\n",
       "    </tr>\n",
       "    <tr>\n",
       "      <th>8</th>\n",
       "      <td>2.836284</td>\n",
       "    </tr>\n",
       "  </tbody>\n",
       "</table>\n",
       "</div>"
      ],
      "text/plain": [
       "                mpg\n",
       "cylinders          \n",
       "3          2.564501\n",
       "4          5.710156\n",
       "5          8.228204\n",
       "6          3.807322\n",
       "8          2.836284"
      ]
     },
     "execution_count": 27,
     "metadata": {},
     "output_type": "execute_result"
    }
   ],
   "source": [
    "cylinder_groups.std()"
   ]
  },
  {
   "cell_type": "code",
   "execution_count": 28,
   "metadata": {},
   "outputs": [
    {
     "data": {
      "text/plain": [
       "0.005"
      ]
     },
     "execution_count": 28,
     "metadata": {},
     "output_type": "execute_result"
    }
   ],
   "source": [
    "bonn_corr = 0.05/10\n",
    "bonn_corr"
   ]
  },
  {
   "cell_type": "code",
   "execution_count": 29,
   "metadata": {},
   "outputs": [],
   "source": [
    "def test_mpg(df, grouping_var, value, alpha=bonn_corr):\n",
    "    results = pd.DataFrame()\n",
    "    combos = combinations(pd.unique(df[grouping_var]), 2)\n",
    "    for grp1, grp2 in combos:\n",
    "        grp1_values = df[df[grouping_var] == grp1][value]\n",
    "        grp2_values = df[df[grouping_var] == grp2][value]\n",
    "        \n",
    "        ttest_p_value = st.ttest_ind(grp1_values, grp2_values, alternative='two-sided')[1]\n",
    "        \n",
    "        grp1_mean = grp1_values.mean()\n",
    "        grp2_mean = grp2_values.mean()\n",
    "        \n",
    "        diff = grp1_mean-grp2_mean\n",
    "        is_significant = ttest_p_value < alpha\n",
    "        \n",
    "        \n",
    "        results = results.append({\n",
    "                'first_group':grp1, 'second_group':grp2, \n",
    "                'first_group_mean':grp1_mean, 'second_group_mean':grp2_mean,\n",
    "                'mean_diff':diff, 'ttest_p_value':ttest_p_value,\n",
    "                'is_significant': is_significant},\n",
    "                ignore_index=True)\n",
    "\n",
    "   #order logically\n",
    "    results = results[['first_group', 'second_group', \n",
    "                    'first_group_mean', 'second_group_mean', \n",
    "                    'mean_diff', 'ttest_p_value', 'is_significant']\n",
    "                     ].sort_values('ttest_p_value')\n",
    "\n",
    "    return results     #.dropna().reset_index().drop('index', axis=1)"
   ]
  },
  {
   "cell_type": "code",
   "execution_count": 30,
   "metadata": {},
   "outputs": [
    {
     "ename": "AttributeError",
     "evalue": "'DataFrame' object has no attribute 'append'",
     "output_type": "error",
     "traceback": [
      "\u001b[1;31m---------------------------------------------------------------------------\u001b[0m",
      "\u001b[1;31mAttributeError\u001b[0m                            Traceback (most recent call last)",
      "\u001b[1;32mc:\\Users\\chris\\anaconda3\\cohort_06\\daimil10\\case_studies\\stats_case_study\\notebooks\\cars_eda_stats.ipynb Cell 10\u001b[0m line \u001b[0;36m1\n\u001b[1;32m----> <a href='vscode-notebook-cell:/c%3A/Users/chris/anaconda3/cohort_06/daimil10/case_studies/stats_case_study/notebooks/cars_eda_stats.ipynb#X12sZmlsZQ%3D%3D?line=0'>1</a>\u001b[0m test_mpg(car_stats_df, \u001b[39m'\u001b[39m\u001b[39mcylinders\u001b[39m\u001b[39m'\u001b[39m, \u001b[39m'\u001b[39m\u001b[39macceleration\u001b[39m\u001b[39m'\u001b[39m)\n",
      "\u001b[1;32mc:\\Users\\chris\\anaconda3\\cohort_06\\daimil10\\case_studies\\stats_case_study\\notebooks\\cars_eda_stats.ipynb Cell 10\u001b[0m line \u001b[0;36m1\n\u001b[0;32m     <a href='vscode-notebook-cell:/c%3A/Users/chris/anaconda3/cohort_06/daimil10/case_studies/stats_case_study/notebooks/cars_eda_stats.ipynb#X12sZmlsZQ%3D%3D?line=12'>13</a>\u001b[0m      diff \u001b[39m=\u001b[39m grp1_mean\u001b[39m-\u001b[39mgrp2_mean\n\u001b[0;32m     <a href='vscode-notebook-cell:/c%3A/Users/chris/anaconda3/cohort_06/daimil10/case_studies/stats_case_study/notebooks/cars_eda_stats.ipynb#X12sZmlsZQ%3D%3D?line=13'>14</a>\u001b[0m      is_significant \u001b[39m=\u001b[39m ttest_p_value \u001b[39m<\u001b[39m alpha\n\u001b[1;32m---> <a href='vscode-notebook-cell:/c%3A/Users/chris/anaconda3/cohort_06/daimil10/case_studies/stats_case_study/notebooks/cars_eda_stats.ipynb#X12sZmlsZQ%3D%3D?line=16'>17</a>\u001b[0m      results \u001b[39m=\u001b[39m results\u001b[39m.\u001b[39mappend({\n\u001b[0;32m     <a href='vscode-notebook-cell:/c%3A/Users/chris/anaconda3/cohort_06/daimil10/case_studies/stats_case_study/notebooks/cars_eda_stats.ipynb#X12sZmlsZQ%3D%3D?line=17'>18</a>\u001b[0m              \u001b[39m'\u001b[39m\u001b[39mfirst_group\u001b[39m\u001b[39m'\u001b[39m:grp1, \u001b[39m'\u001b[39m\u001b[39msecond_group\u001b[39m\u001b[39m'\u001b[39m:grp2, \n\u001b[0;32m     <a href='vscode-notebook-cell:/c%3A/Users/chris/anaconda3/cohort_06/daimil10/case_studies/stats_case_study/notebooks/cars_eda_stats.ipynb#X12sZmlsZQ%3D%3D?line=18'>19</a>\u001b[0m              \u001b[39m'\u001b[39m\u001b[39mfirst_group_mean\u001b[39m\u001b[39m'\u001b[39m:grp1_mean, \u001b[39m'\u001b[39m\u001b[39msecond_group_mean\u001b[39m\u001b[39m'\u001b[39m:grp2_mean,\n\u001b[0;32m     <a href='vscode-notebook-cell:/c%3A/Users/chris/anaconda3/cohort_06/daimil10/case_studies/stats_case_study/notebooks/cars_eda_stats.ipynb#X12sZmlsZQ%3D%3D?line=19'>20</a>\u001b[0m              \u001b[39m'\u001b[39m\u001b[39mmean_diff\u001b[39m\u001b[39m'\u001b[39m:diff, \u001b[39m'\u001b[39m\u001b[39mttest_p_value\u001b[39m\u001b[39m'\u001b[39m:ttest_p_value,\n\u001b[0;32m     <a href='vscode-notebook-cell:/c%3A/Users/chris/anaconda3/cohort_06/daimil10/case_studies/stats_case_study/notebooks/cars_eda_stats.ipynb#X12sZmlsZQ%3D%3D?line=20'>21</a>\u001b[0m              \u001b[39m'\u001b[39m\u001b[39mis_significant\u001b[39m\u001b[39m'\u001b[39m: is_significant},\n\u001b[0;32m     <a href='vscode-notebook-cell:/c%3A/Users/chris/anaconda3/cohort_06/daimil10/case_studies/stats_case_study/notebooks/cars_eda_stats.ipynb#X12sZmlsZQ%3D%3D?line=21'>22</a>\u001b[0m              ignore_index\u001b[39m=\u001b[39m\u001b[39mTrue\u001b[39;00m)\n\u001b[0;32m     <a href='vscode-notebook-cell:/c%3A/Users/chris/anaconda3/cohort_06/daimil10/case_studies/stats_case_study/notebooks/cars_eda_stats.ipynb#X12sZmlsZQ%3D%3D?line=23'>24</a>\u001b[0m \u001b[39m#order logically\u001b[39;00m\n\u001b[0;32m     <a href='vscode-notebook-cell:/c%3A/Users/chris/anaconda3/cohort_06/daimil10/case_studies/stats_case_study/notebooks/cars_eda_stats.ipynb#X12sZmlsZQ%3D%3D?line=24'>25</a>\u001b[0m  results \u001b[39m=\u001b[39m results[[\u001b[39m'\u001b[39m\u001b[39mfirst_group\u001b[39m\u001b[39m'\u001b[39m, \u001b[39m'\u001b[39m\u001b[39msecond_group\u001b[39m\u001b[39m'\u001b[39m, \n\u001b[0;32m     <a href='vscode-notebook-cell:/c%3A/Users/chris/anaconda3/cohort_06/daimil10/case_studies/stats_case_study/notebooks/cars_eda_stats.ipynb#X12sZmlsZQ%3D%3D?line=25'>26</a>\u001b[0m                  \u001b[39m'\u001b[39m\u001b[39mfirst_group_mean\u001b[39m\u001b[39m'\u001b[39m, \u001b[39m'\u001b[39m\u001b[39msecond_group_mean\u001b[39m\u001b[39m'\u001b[39m, \n\u001b[0;32m     <a href='vscode-notebook-cell:/c%3A/Users/chris/anaconda3/cohort_06/daimil10/case_studies/stats_case_study/notebooks/cars_eda_stats.ipynb#X12sZmlsZQ%3D%3D?line=26'>27</a>\u001b[0m                  \u001b[39m'\u001b[39m\u001b[39mmean_diff\u001b[39m\u001b[39m'\u001b[39m, \u001b[39m'\u001b[39m\u001b[39mttest_p_value\u001b[39m\u001b[39m'\u001b[39m, \u001b[39m'\u001b[39m\u001b[39mis_significant\u001b[39m\u001b[39m'\u001b[39m]\n\u001b[0;32m     <a href='vscode-notebook-cell:/c%3A/Users/chris/anaconda3/cohort_06/daimil10/case_studies/stats_case_study/notebooks/cars_eda_stats.ipynb#X12sZmlsZQ%3D%3D?line=27'>28</a>\u001b[0m                   ]\u001b[39m.\u001b[39msort_values(\u001b[39m'\u001b[39m\u001b[39mttest_p_value\u001b[39m\u001b[39m'\u001b[39m)\n",
      "File \u001b[1;32mc:\\Users\\chris\\anaconda3\\Lib\\site-packages\\pandas\\core\\generic.py:5989\u001b[0m, in \u001b[0;36mNDFrame.__getattr__\u001b[1;34m(self, name)\u001b[0m\n\u001b[0;32m   5982\u001b[0m \u001b[39mif\u001b[39;00m (\n\u001b[0;32m   5983\u001b[0m     name \u001b[39mnot\u001b[39;00m \u001b[39min\u001b[39;00m \u001b[39mself\u001b[39m\u001b[39m.\u001b[39m_internal_names_set\n\u001b[0;32m   5984\u001b[0m     \u001b[39mand\u001b[39;00m name \u001b[39mnot\u001b[39;00m \u001b[39min\u001b[39;00m \u001b[39mself\u001b[39m\u001b[39m.\u001b[39m_metadata\n\u001b[0;32m   5985\u001b[0m     \u001b[39mand\u001b[39;00m name \u001b[39mnot\u001b[39;00m \u001b[39min\u001b[39;00m \u001b[39mself\u001b[39m\u001b[39m.\u001b[39m_accessors\n\u001b[0;32m   5986\u001b[0m     \u001b[39mand\u001b[39;00m \u001b[39mself\u001b[39m\u001b[39m.\u001b[39m_info_axis\u001b[39m.\u001b[39m_can_hold_identifiers_and_holds_name(name)\n\u001b[0;32m   5987\u001b[0m ):\n\u001b[0;32m   5988\u001b[0m     \u001b[39mreturn\u001b[39;00m \u001b[39mself\u001b[39m[name]\n\u001b[1;32m-> 5989\u001b[0m \u001b[39mreturn\u001b[39;00m \u001b[39mobject\u001b[39m\u001b[39m.\u001b[39m\u001b[39m__getattribute__\u001b[39m(\u001b[39mself\u001b[39m, name)\n",
      "\u001b[1;31mAttributeError\u001b[0m: 'DataFrame' object has no attribute 'append'"
     ]
    }
   ],
   "source": [
    "test_mpg(car_stats_df, 'cylinders', 'acceleration')"
   ]
  },
  {
   "cell_type": "markdown",
   "metadata": {},
   "source": [
    "## Official Hypothesis Test"
   ]
  },
  {
   "cell_type": "markdown",
   "metadata": {},
   "source": [
    "H0: 6cyl, 8cyl >= 4cyl in mpg, acceleration\n",
    "\n",
    "Ha: 6cyl, 8cyl < 4cyl in mpg, acceleration"
   ]
  },
  {
   "cell_type": "code",
   "execution_count": null,
   "metadata": {},
   "outputs": [
    {
     "data": {
      "text/html": [
       "<div>\n",
       "<style scoped>\n",
       "    .dataframe tbody tr th:only-of-type {\n",
       "        vertical-align: middle;\n",
       "    }\n",
       "\n",
       "    .dataframe tbody tr th {\n",
       "        vertical-align: top;\n",
       "    }\n",
       "\n",
       "    .dataframe thead th {\n",
       "        text-align: right;\n",
       "    }\n",
       "</style>\n",
       "<table border=\"1\" class=\"dataframe\">\n",
       "  <thead>\n",
       "    <tr style=\"text-align: right;\">\n",
       "      <th></th>\n",
       "      <th>cylinders</th>\n",
       "      <th>acceleration</th>\n",
       "      <th>mpg</th>\n",
       "    </tr>\n",
       "  </thead>\n",
       "  <tbody>\n",
       "    <tr>\n",
       "      <th>113</th>\n",
       "      <td>6</td>\n",
       "      <td>14.0</td>\n",
       "      <td>21.0</td>\n",
       "    </tr>\n",
       "    <tr>\n",
       "      <th>124</th>\n",
       "      <td>8</td>\n",
       "      <td>11.0</td>\n",
       "      <td>11.0</td>\n",
       "    </tr>\n",
       "    <tr>\n",
       "      <th>54</th>\n",
       "      <td>4</td>\n",
       "      <td>18.0</td>\n",
       "      <td>35.0</td>\n",
       "    </tr>\n",
       "    <tr>\n",
       "      <th>276</th>\n",
       "      <td>4</td>\n",
       "      <td>15.7</td>\n",
       "      <td>21.6</td>\n",
       "    </tr>\n",
       "    <tr>\n",
       "      <th>129</th>\n",
       "      <td>4</td>\n",
       "      <td>19.0</td>\n",
       "      <td>31.0</td>\n",
       "    </tr>\n",
       "  </tbody>\n",
       "</table>\n",
       "</div>"
      ],
      "text/plain": [
       "     cylinders  acceleration   mpg\n",
       "113          6          14.0  21.0\n",
       "124          8          11.0  11.0\n",
       "54           4          18.0  35.0\n",
       "276          4          15.7  21.6\n",
       "129          4          19.0  31.0"
      ]
     },
     "execution_count": 40,
     "metadata": {},
     "output_type": "execute_result"
    }
   ],
   "source": [
    "hyp_test_df = car_stats_df.reset_index().drop(['displacement', 'weight', 'origin', 'model', 'car_name', 'horsepower', 'index'], axis=1).loc[:, ['cylinders', 'acceleration', 'mpg']]\n",
    "hyp_test_df.sample(5)"
   ]
  },
  {
   "cell_type": "code",
   "execution_count": null,
   "metadata": {},
   "outputs": [
    {
     "name": "stdout",
     "output_type": "stream",
     "text": [
      "<class 'pandas.core.frame.DataFrame'>\n",
      "RangeIndex: 398 entries, 0 to 397\n",
      "Data columns (total 3 columns):\n",
      " #   Column        Non-Null Count  Dtype  \n",
      "---  ------        --------------  -----  \n",
      " 0   cylinders     398 non-null    int64  \n",
      " 1   acceleration  398 non-null    float64\n",
      " 2   mpg           398 non-null    float64\n",
      "dtypes: float64(2), int64(1)\n",
      "memory usage: 9.5 KB\n"
     ]
    }
   ],
   "source": [
    "hyp_test_df.info()"
   ]
  },
  {
   "cell_type": "code",
   "execution_count": null,
   "metadata": {},
   "outputs": [
    {
     "data": {
      "text/html": [
       "<div>\n",
       "<style scoped>\n",
       "    .dataframe tbody tr th:only-of-type {\n",
       "        vertical-align: middle;\n",
       "    }\n",
       "\n",
       "    .dataframe tbody tr th {\n",
       "        vertical-align: top;\n",
       "    }\n",
       "\n",
       "    .dataframe thead th {\n",
       "        text-align: right;\n",
       "    }\n",
       "</style>\n",
       "<table border=\"1\" class=\"dataframe\">\n",
       "  <thead>\n",
       "    <tr style=\"text-align: right;\">\n",
       "      <th></th>\n",
       "      <th>acceleration</th>\n",
       "      <th>mpg</th>\n",
       "    </tr>\n",
       "    <tr>\n",
       "      <th>cylinders</th>\n",
       "      <th></th>\n",
       "      <th></th>\n",
       "    </tr>\n",
       "  </thead>\n",
       "  <tbody>\n",
       "    <tr>\n",
       "      <th>3</th>\n",
       "      <td>4</td>\n",
       "      <td>4</td>\n",
       "    </tr>\n",
       "    <tr>\n",
       "      <th>4</th>\n",
       "      <td>204</td>\n",
       "      <td>204</td>\n",
       "    </tr>\n",
       "    <tr>\n",
       "      <th>5</th>\n",
       "      <td>3</td>\n",
       "      <td>3</td>\n",
       "    </tr>\n",
       "    <tr>\n",
       "      <th>6</th>\n",
       "      <td>84</td>\n",
       "      <td>84</td>\n",
       "    </tr>\n",
       "    <tr>\n",
       "      <th>8</th>\n",
       "      <td>103</td>\n",
       "      <td>103</td>\n",
       "    </tr>\n",
       "  </tbody>\n",
       "</table>\n",
       "</div>"
      ],
      "text/plain": [
       "           acceleration  mpg\n",
       "cylinders                   \n",
       "3                     4    4\n",
       "4                   204  204\n",
       "5                     3    3\n",
       "6                    84   84\n",
       "8                   103  103"
      ]
     },
     "execution_count": 42,
     "metadata": {},
     "output_type": "execute_result"
    }
   ],
   "source": [
    "# hyp_test_df.groupby('cylinders').mean()\n",
    "# hyp_test_df.groupby('cylinders').std()\n",
    "hyp_test_df.groupby('cylinders').count()"
   ]
  },
  {
   "cell_type": "markdown",
   "metadata": {},
   "source": [
    "### MPG Comparisons"
   ]
  },
  {
   "cell_type": "code",
   "execution_count": null,
   "metadata": {},
   "outputs": [],
   "source": [
    "# declarations for 4 cylinder mpg\n",
    "fourcyl_mpg_std = hyp_test_df.groupby('cylinders').std().iloc[1, 1]\n",
    "\n",
    "fourcyl_mpg_mean = hyp_test_df.groupby('cylinders').mean().iloc[1, 1]\n",
    "\n",
    "fourcyl_mpg_sem = fourcyl_mpg_std/np.sqrt(204)\n",
    "\n",
    "fourcyl_mpg_dist = st.norm(fourcyl_mpg_mean, fourcyl_mpg_sem)\n",
    "\n",
    "four_times_sem_fourcylmpg = fourcyl_mpg_sem * 4\n",
    "\n",
    "fourcyl_linspace = np.linspace(fourcyl_mpg_mean-four_times_sem_fourcylmpg, fourcyl_mpg_mean+four_times_sem_fourcylmpg,204)"
   ]
  },
  {
   "cell_type": "code",
   "execution_count": null,
   "metadata": {},
   "outputs": [],
   "source": [
    "# declarations for 6 cylinder mpg\n",
    "sixcyl_mpg_std = hyp_test_df.groupby('cylinders').std().iloc[3, 1]\n",
    "\n",
    "sixcyl_mpg_mean = hyp_test_df.groupby('cylinders').mean().iloc[3, 1]\n",
    "\n",
    "sixcyl_mpg_sem = sixcyl_mpg_std/np.sqrt(84)\n",
    "\n",
    "sixcyl_mpg_dist = st.norm(sixcyl_mpg_mean, sixcyl_mpg_sem)\n",
    "\n",
    "four_times_sem_sixcylmpg = sixcyl_mpg_sem * 4\n",
    "\n",
    "sixcyl_linspace = np.linspace(sixcyl_mpg_mean-four_times_sem_sixcylmpg, sixcyl_mpg_mean+four_times_sem_sixcylmpg,84)"
   ]
  },
  {
   "cell_type": "code",
   "execution_count": null,
   "metadata": {},
   "outputs": [],
   "source": [
    "# declarations for 8 cylinder mpg\n",
    "eightcyl_mpg_std = hyp_test_df.groupby('cylinders').std().iloc[4, 1]\n",
    "\n",
    "eightcyl_mpg_mean = hyp_test_df.groupby('cylinders').mean().iloc[4, 1]\n",
    "\n",
    "eightcyl_mpg_sem = eightcyl_mpg_std/np.sqrt(103)\n",
    "\n",
    "eightcyl_mpg_dist = st.norm(eightcyl_mpg_mean, eightcyl_mpg_sem)\n",
    "\n",
    "four_times_sem_eightcylmpg = eightcyl_mpg_sem * 4\n",
    "\n",
    "eightcyl_linspace = np.linspace(eightcyl_mpg_mean-four_times_sem_eightcylmpg, eightcyl_mpg_mean+four_times_sem_eightcylmpg,103)"
   ]
  },
  {
   "cell_type": "code",
   "execution_count": null,
   "metadata": {},
   "outputs": [
    {
     "data": {
      "image/png": "[encoded data removed]",
      "text/plain": [
       "<Figure size 1200x400 with 1 Axes>"
      ]
     },
     "metadata": {},
     "output_type": "display_data"
    }
   ],
   "source": [
    "# plot distributions for mpg\n",
    "fig, ax = plt.subplots(figsize=(12, 4))\n",
    "\n",
    "ax.plot(fourcyl_linspace, fourcyl_mpg_dist.pdf(fourcyl_linspace), color = 'green')\n",
    "ax.plot(sixcyl_linspace, sixcyl_mpg_dist.pdf(sixcyl_linspace), color = 'red')\n",
    "# ax.plot(eightcyl_linspace, eightcyl_mpg_dist.pdf(eightcyl_linspace), color = 'blue')\n",
    "\n",
    "# ax.axvline(x = fourcyl_mpg_dist.ppf(0.025), color = 'grey',ls=\"--\")\n",
    "# ax.axvline(x = fourcyl_mpg_dist.ppf(1-0.025), color = 'grey',ls=\"--\")\n",
    "plt.grid()"
   ]
  },
  {
   "cell_type": "markdown",
   "metadata": {},
   "source": [
    "### Acceleration Comparisons"
   ]
  },
  {
   "cell_type": "code",
   "execution_count": null,
   "metadata": {},
   "outputs": [],
   "source": [
    "# declarations for 4 cylinder acceleration\n",
    "fourcyl_accel_std = hyp_test_df.groupby('cylinders').std().iloc[1, 0]\n",
    "\n",
    "fourcyl_accel_mean = hyp_test_df.groupby('cylinders').mean().iloc[1, 0]\n",
    "\n",
    "fourcyl_accel_sem = fourcyl_accel_std/np.sqrt(204)\n",
    "\n",
    "fourcyl_accel_dist = st.norm(fourcyl_accel_mean, fourcyl_accel_sem)\n",
    "\n",
    "four_times_sem_fourcylaccel = fourcyl_accel_sem * 4\n",
    "\n",
    "fourcyl_linspace_accel = np.linspace(fourcyl_accel_mean-four_times_sem_fourcylaccel, fourcyl_accel_mean+four_times_sem_fourcylaccel,204)"
   ]
  },
  {
   "cell_type": "code",
   "execution_count": null,
   "metadata": {},
   "outputs": [
    {
     "data": {
      "text/plain": [
       "<scipy.stats._distn_infrastructure.rv_continuous_frozen at 0x26532e20bd0>"
      ]
     },
     "execution_count": 101,
     "metadata": {},
     "output_type": "execute_result"
    }
   ],
   "source": []
  },
  {
   "cell_type": "code",
   "execution_count": null,
   "metadata": {},
   "outputs": [],
   "source": [
    "# declarations for 6 cylinder acceleration\n",
    "sixcyl_accel_std = hyp_test_df.groupby('cylinders').std().iloc[3, 0]\n",
    "\n",
    "sixcyl_accel_mean = hyp_test_df.groupby('cylinders').mean().iloc[3, 0]\n",
    "\n",
    "sixcyl_accel_sem = sixcyl_accel_std/np.sqrt(84)\n",
    "\n",
    "sixcyl_accel_dist = st.norm(sixcyl_accel_mean, sixcyl_accel_sem)\n",
    "\n",
    "four_times_sem_sixcylaccel = sixcyl_accel_sem * 4\n",
    "\n",
    "sixcyl_linspace_accel = np.linspace(sixcyl_accel_mean-four_times_sem_sixcylaccel, sixcyl_accel_mean+four_times_sem_sixcylaccel,84)"
   ]
  },
  {
   "cell_type": "code",
   "execution_count": null,
   "metadata": {},
   "outputs": [],
   "source": [
    "# declarations for 8 cylinder acceleration\n",
    "eightcyl_accel_std = hyp_test_df.groupby('cylinders').std().iloc[4, 0]\n",
    "\n",
    "eightcyl_accel_mean = hyp_test_df.groupby('cylinders').mean().iloc[4, 0]\n",
    "\n",
    "eightcyl_accel_sem = eightcyl_accel_std/np.sqrt(103)\n",
    "\n",
    "eightcyl_accel_dist = st.norm(eightcyl_accel_mean, eightcyl_accel_sem)\n",
    "\n",
    "four_times_sem_eightcylaccel = eightcyl_accel_sem * 4\n",
    "\n",
    "eightcyl_linspace_accel = np.linspace(eightcyl_accel_mean-four_times_sem_eightcylaccel, eightcyl_accel_mean+four_times_sem_eightcylaccel,103)"
   ]
  },
  {
   "cell_type": "code",
   "execution_count": null,
   "metadata": {},
   "outputs": [
    {
     "data": {
      "text/plain": [
       "2.0211400672747346"
      ]
     },
     "execution_count": 50,
     "metadata": {},
     "output_type": "execute_result"
    }
   ],
   "source": [
    "sixcyl_accel_std"
   ]
  },
  {
   "cell_type": "code",
   "execution_count": null,
   "metadata": {},
   "outputs": [],
   "source": [
    "def compute_power(n, sigma, alpha, mu0, mua):\n",
    "    standard_error = sigma / n**0.5\n",
    "    h0 = st.norm(mu0, standard_error)\n",
    "    ha = st.norm(mua, standard_error)\n",
    "    critical_value = h0.ppf(1 - alpha)\n",
    "    power = 1 - ha.cdf(critical_value)\n",
    "    return power"
   ]
  },
  {
   "cell_type": "code",
   "execution_count": null,
   "metadata": {},
   "outputs": [
    {
     "data": {
      "text/plain": [
       "2.0211400672747346"
      ]
     },
     "execution_count": 89,
     "metadata": {},
     "output_type": "execute_result"
    }
   ],
   "source": [
    "sixcyl_accel_std"
   ]
  },
  {
   "cell_type": "code",
   "execution_count": null,
   "metadata": {},
   "outputs": [
    {
     "name": "stderr",
     "output_type": "stream",
     "text": [
      "C:\\Users\\benha\\AppData\\Local\\Temp\\ipykernel_38252\\3732494414.py:1: RuntimeWarning: invalid value encountered in sqrt\n",
      "  sig = np.sqrt(sixcyl_accel_mean*(1-sixcyl_accel_mean))\n"
     ]
    },
    {
     "data": {
      "text/plain": [
       "nan"
      ]
     },
     "execution_count": 87,
     "metadata": {},
     "output_type": "execute_result"
    }
   ],
   "source": [
    "sig = np.sqrt(sixcyl_accel_mean*(1-sixcyl_accel_mean))\n",
    "sig"
   ]
  },
  {
   "cell_type": "code",
   "execution_count": null,
   "metadata": {},
   "outputs": [
    {
     "data": {
      "text/plain": [
       "0.0007360411612690188"
      ]
     },
     "execution_count": 73,
     "metadata": {},
     "output_type": "execute_result"
    }
   ],
   "source": [
    "compute_power(84,2.02,0.05,fourcyl_accel_mean,sixcyl_accel_mean)"
   ]
  },
  {
   "cell_type": "code",
   "execution_count": null,
   "metadata": {},
   "outputs": [
    {
     "ename": "NameError",
     "evalue": "name 'fourcyl_linspace_accel' is not defined",
     "output_type": "error",
     "traceback": [
      "\u001b[1;31m---------------------------------------------------------------------------\u001b[0m",
      "\u001b[1;31mNameError\u001b[0m                                 Traceback (most recent call last)",
      "\u001b[1;32mc:\\Users\\chris\\anaconda3\\cohort_06\\daimil10\\case_studies\\stats_case_study\\notebooks\\cars_eda_stats.ipynb Cell 31\u001b[0m line \u001b[0;36m4\n\u001b[0;32m      <a href='vscode-notebook-cell:/c%3A/Users/chris/anaconda3/cohort_06/daimil10/case_studies/stats_case_study/notebooks/cars_eda_stats.ipynb#X42sZmlsZQ%3D%3D?line=1'>2</a>\u001b[0m fig, ax \u001b[39m=\u001b[39m plt\u001b[39m.\u001b[39msubplots(figsize\u001b[39m=\u001b[39m(\u001b[39m12\u001b[39m, \u001b[39m4\u001b[39m))\n\u001b[0;32m      <a href='vscode-notebook-cell:/c%3A/Users/chris/anaconda3/cohort_06/daimil10/case_studies/stats_case_study/notebooks/cars_eda_stats.ipynb#X42sZmlsZQ%3D%3D?line=2'>3</a>\u001b[0m labels \u001b[39m=\u001b[39m [\u001b[39m\"\u001b[39m\u001b[39m4 cylinder\u001b[39m\u001b[39m\"\u001b[39m,\u001b[39m\"\u001b[39m\u001b[39m6 cylinder\u001b[39m\u001b[39m\"\u001b[39m]\n\u001b[1;32m----> <a href='vscode-notebook-cell:/c%3A/Users/chris/anaconda3/cohort_06/daimil10/case_studies/stats_case_study/notebooks/cars_eda_stats.ipynb#X42sZmlsZQ%3D%3D?line=3'>4</a>\u001b[0m ax\u001b[39m.\u001b[39mplot(fourcyl_linspace_accel, fourcyl_accel_dist\u001b[39m.\u001b[39mpdf(fourcyl_linspace_accel), color \u001b[39m=\u001b[39m \u001b[39m'\u001b[39m\u001b[39mblue\u001b[39m\u001b[39m'\u001b[39m)\n\u001b[0;32m      <a href='vscode-notebook-cell:/c%3A/Users/chris/anaconda3/cohort_06/daimil10/case_studies/stats_case_study/notebooks/cars_eda_stats.ipynb#X42sZmlsZQ%3D%3D?line=4'>5</a>\u001b[0m ax\u001b[39m.\u001b[39mplot(sixcyl_linspace_accel, sixcyl_accel_dist\u001b[39m.\u001b[39mpdf(sixcyl_linspace_accel), color \u001b[39m=\u001b[39m \u001b[39m'\u001b[39m\u001b[39mred\u001b[39m\u001b[39m'\u001b[39m)\n\u001b[0;32m      <a href='vscode-notebook-cell:/c%3A/Users/chris/anaconda3/cohort_06/daimil10/case_studies/stats_case_study/notebooks/cars_eda_stats.ipynb#X42sZmlsZQ%3D%3D?line=5'>6</a>\u001b[0m ax\u001b[39m.\u001b[39mlegend(labels)\n",
      "\u001b[1;31mNameError\u001b[0m: name 'fourcyl_linspace_accel' is not defined"
     ]
    },
    {
     "data": {
      "image/png": "[encoded data removed]",
      "text/plain": [
       "<Figure size 1200x400 with 1 Axes>"
      ]
     },
     "metadata": {},
     "output_type": "display_data"
    }
   ],
   "source": [
    "# plot distributions for acceleration\n",
    "fig, ax = plt.subplots(figsize=(12, 4))\n",
    "labels = [\"4 cylinder\",\"6 cylinder\"]\n",
    "ax.plot(fourcyl_linspace_accel, fourcyl_accel_dist.pdf(fourcyl_linspace_accel), color = 'blue')\n",
    "ax.plot(sixcyl_linspace_accel, sixcyl_accel_dist.pdf(sixcyl_linspace_accel), color = 'red')\n",
    "ax.legend(labels)\n",
    "# ax.plot(eightcyl_linspace_accel, eightcyl_accel_dist.pdf(eightcyl_linspace_accel), color = 'blue')\n",
    "\n",
    "ax.axvline(x = fourcyl_accel_dist.ppf(0.025), color = 'grey',ls=\"--\")\n",
    "ax.axvline(x = fourcyl_accel_dist.ppf(1-.025), color = 'grey',ls=\"--\")\n",
    "\n",
    "y_vals = fourcyl_accel_dist.pdf(fourcyl_linspace_accel)\n",
    "ax.fill_between(fourcyl_linspace_accel,y_vals,0,where=(fourcyl_linspace_accel<=fourcyl_accel_dist.ppf(.025)),alpha=.8,color='lightblue')\n",
    "ax.fill_between(fourcyl_linspace_accel,y_vals,0,where=(fourcyl_linspace_accel>=fourcyl_accel_dist.ppf(1-.025)),alpha=.8,color='lightblue')\n",
    "x_vals = sixcyl_linspace_accel\n",
    "y2_vals = sixcyl_accel_dist.pdf(sixcyl_linspace_accel)\n",
    "ax.fill_between(x_vals,y2_vals,0,where=(x_vals>=fourcyl_accel_dist.ppf(0.020)),color='red',alpha=.4)\n",
    "ax.set_lable(x= \"Feet per second\")\n",
    "ax.set_title(\"Engine Acceleration Averages\")\n",
    "plt.grid()"
   ]
  },
  {
   "cell_type": "code",
   "execution_count": null,
   "metadata": {},
   "outputs": [
    {
     "data": {
      "text/plain": [
       "array([15.5, 15.5, 16. , 15. , 13. , 15.5, 15.5, 15.5, 15.5, 13.5, 15. ,\n",
       "       14.5, 16.5, 18. , 16. , 16.5, 16. , 15. , 14. , 13.5, 16.5, 17. ,\n",
       "       16. , 17. , 17. , 18. , 16.5, 16. , 16. , 21. , 19.5, 21. , 18.5,\n",
       "       19. , 19. , 15. , 16. , 14.5, 17. , 15.4, 14.5, 17.6, 17.6, 17.7,\n",
       "       21. , 16.2, 17.8, 15.5, 16.7, 16.4, 16.9, 17.7, 19. , 14.5, 19.2,\n",
       "       18.2, 15.8, 17.2, 17.2, 15.8, 16.7, 18.7, 15.1, 13.4, 13.6, 15.8,\n",
       "       15.4, 18.2, 18.2, 16.6, 11.3, 12.9, 18.7, 11.4, 12.6, 19.6, 12.6,\n",
       "       13.8, 15.8, 17.1, 16.6, 16.4, 17. , 14.7])"
      ]
     },
     "execution_count": 109,
     "metadata": {},
     "output_type": "execute_result"
    }
   ],
   "source": [
    "accel_df = hyp_test_df.drop('mpg',axis=1)\n",
    "accel_df[accel_df['cylinders'] == 4]\n",
    "fourcyl_df = accel_df[accel_df['cylinders'] == 4]\n",
    "fourcyl_array = fourcyl_df['acceleration'].values\n",
    "\n",
    "\n",
    "accel_df[accel_df['cylinders'] == 6]\n",
    "sixcyl_df = accel_df[accel_df['cylinders'] == 6]\n",
    "sixcyl_array = sixcyl_df['acceleration'].values\n",
    "sixcyl_array"
   ]
  },
  {
   "cell_type": "code",
   "execution_count": null,
   "metadata": {},
   "outputs": [
    {
     "data": {
      "text/plain": [
       "Ttest_indResult(statistic=-1.143120220859928, pvalue=0.8730276753744901)"
      ]
     },
     "execution_count": 120,
     "metadata": {},
     "output_type": "execute_result"
    }
   ],
   "source": [
    "st.ttest_ind(sixcyl_array,fourcyl_array,alternative=\"greater\")"
   ]
  },
  {
   "cell_type": "markdown",
   "metadata": {},
   "source": [
    "H0: 4 cylinder engine acceleration averages are significantly greater than or equal to 6 cylinder\n",
    "\n",
    "H1: 4 cylinder engine acceleration averages are significantly less than 6 cylinder"
   ]
  }
 ],
 "metadata": {
  "kernelspec": {
   "display_name": "base",
   "language": "python",
   "name": "python3"
  },
  "language_info": {
   "codemirror_mode": {
    "name": "ipython",
    "version": 3
   },
   "file_extension": ".py",
   "mimetype": "text/x-python",
   "name": "python",
   "nbconvert_exporter": "python",
   "pygments_lexer": "ipython3",
   "version": "3.11.4"
  }
 },
 "nbformat": 4,
 "nbformat_minor": 2
}
